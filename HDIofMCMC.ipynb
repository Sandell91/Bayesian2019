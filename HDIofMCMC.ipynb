{
 "cells": [
  {
   "cell_type": "code",
   "execution_count": null,
   "metadata": {},
   "outputs": [],
   "source": [
    "def HDIofMCMC(SampleArray, credMass=.95): #Computes the HDI from an array of a unimodal samples of representative values.\n",
    "    sortedarray=np.sort(SampleArray)\n",
    "    CielingIndex=np.ceil(credMass*np.size(sortedarray))\n",
    "    nCI=np.size(sortedarray)-CielingIndex\n",
    "    ciWidth=np.zeros(int(nCI))\n",
    "    for i in range(int(nCI)):\n",
    "        ciWidth[i]=sortedarray[i+int(CielingIndex)]-sortedarray[i]\n",
    "    HDImin=(sortedarray[np.argmin(ciWidth)])\n",
    "    HDImax=(sortedarray[np.argmin(ciWidth)+int(CielingIndex)])\n",
    "    HDIlim=np.array([HDImin,HDImax])\n",
    "    return(HDIlim)"
   ]
  }
 ],
 "metadata": {
  "kernelspec": {
   "display_name": "Python 3",
   "language": "python",
   "name": "python3"
  },
  "language_info": {
   "codemirror_mode": {
    "name": "ipython",
    "version": 3
   },
   "file_extension": ".py",
   "mimetype": "text/x-python",
   "name": "python",
   "nbconvert_exporter": "python",
   "pygments_lexer": "ipython3",
   "version": "3.6.5"
  }
 },
 "nbformat": 4,
 "nbformat_minor": 4
}
